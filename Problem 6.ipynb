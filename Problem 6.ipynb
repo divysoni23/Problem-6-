{
 "cells": [
  {
   "cell_type": "code",
   "execution_count": 12,
   "id": "63c9f964-3b8e-4abd-a5b5-d79e8c17447d",
   "metadata": {},
   "outputs": [
    {
     "name": "stdout",
     "output_type": "stream",
     "text": [
      "      KM KM_Category\n",
      "0  46986         Low\n",
      "1  72937      Medium\n",
      "2  41711         Low\n",
      "3  48000         Low\n",
      "4  38500         Low\n"
     ]
    }
   ],
   "source": [
    "import pandas as pd\n",
    "import matplotlib as mp\n",
    "# Load the dataset with a different encoding (ISO-8859-1 or latin1 should work)\n",
    "file_path = 'ToyotaCorolla.csv'\n",
    "df = pd.read_csv(file_path, encoding='ISO-8859-1')\n",
    "\n",
    "# Check the distribution of the 'KM' column\n",
    "km_stats = df['KM'].describe()\n",
    "\n",
    "# Create bins and corresponding labels\n",
    "bins = [0, 50000, 100000, df['KM'].max()]  # Setting the bin edges\n",
    "labels = ['Low', 'Medium', 'High']         # Assigning labels\n",
    "\n",
    "# Create a new categorical column for KM\n",
    "df['KM_Category'] = pd.cut(df['KM'], bins=bins, labels=labels, include_lowest=True)\n",
    "\n",
    "# Display the updated dataframe with the new categorical column\n",
    "df[['KM', 'KM_Category']].head()\n",
    "print(df[['KM', 'KM_Category']].head())\n"
   ]
  },
  {
   "cell_type": "code",
   "execution_count": null,
   "id": "079dee57-e621-4876-b77f-65732226478c",
   "metadata": {},
   "outputs": [],
   "source": []
  }
 ],
 "metadata": {
  "kernelspec": {
   "display_name": "Python 3 (ipykernel)",
   "language": "python",
   "name": "python3"
  },
  "language_info": {
   "codemirror_mode": {
    "name": "ipython",
    "version": 3
   },
   "file_extension": ".py",
   "mimetype": "text/x-python",
   "name": "python",
   "nbconvert_exporter": "python",
   "pygments_lexer": "ipython3",
   "version": "3.12.4"
  }
 },
 "nbformat": 4,
 "nbformat_minor": 5
}
